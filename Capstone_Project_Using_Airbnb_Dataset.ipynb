{
  "nbformat": 4,
  "nbformat_minor": 0,
  "metadata": {
    "colab": {
      "private_outputs": true,
      "provenance": [],
      "collapsed_sections": [
        "85gYPyotYoAp",
        "QHF8YVU7Yuh3",
        "GwzvFGzlYuh3",
        "_ouA3fa0phqN",
        "t27r6nlMphqO",
        "r2jJGEOYphqO",
        "eZrbJ2SmphqO",
        "tgIPom80phqQ",
        "8zGJKyg5p1ck",
        "E6MkPsBcp1cl",
        "2cELzS2fp1cl",
        "gCX9965dhzqZ",
        "gIfDvo9L0UH2"
      ],
      "include_colab_link": true
    },
    "kernelspec": {
      "name": "python3",
      "display_name": "Python 3"
    },
    "language_info": {
      "name": "python"
    }
  },
  "cells": [
    {
      "cell_type": "markdown",
      "metadata": {
        "id": "view-in-github",
        "colab_type": "text"
      },
      "source": [
        "<a href=\"https://colab.research.google.com/github/Negiamit034/Exploratory-Data-Analysis-of-SugarCane-Dataset/blob/main/Capstone_Project_Using_Airbnb_Dataset.ipynb\" target=\"_parent\"><img src=\"https://colab.research.google.com/assets/colab-badge.svg\" alt=\"Open In Colab\"/></a>"
      ]
    },
    {
      "cell_type": "markdown",
      "source": [
        "# **Project Name**    - Exploratary Data Analysis Using Airbnb Dataset\n",
        "\n"
      ],
      "metadata": {
        "id": "vncDsAP0Gaoa"
      }
    },
    {
      "cell_type": "markdown",
      "source": [
        "##### **Project Type**    - EDA\n",
        "##### **Contribution**    - Individual"
      ],
      "metadata": {
        "id": "beRrZCGUAJYm"
      }
    },
    {
      "cell_type": "markdown",
      "source": [
        "# **Project Summary -**"
      ],
      "metadata": {
        "id": "FJNUwmbgGyua"
      }
    },
    {
      "cell_type": "markdown",
      "source": [
        "Title: Exploratory Data Analysis of Airbnb Dataset: Unveiling Insights for Optimal Stays\n",
        "\n",
        "Introduction:\n",
        "This project aimed to perform an in-depth exploratory data analysis (EDA) on a comprehensive Airbnb dataset. The dataset consisted of 48,895 entries, each containing 16 informative columns, such as listing details, host information, location attributes, pricing, and reviews. By analyzing this dataset, we sought to unravel key insights and patterns that could enhance the understanding of Airbnb listings and facilitate better decision-making for both hosts and guests.\n",
        "\n",
        "Data Loading and Understanding\n",
        "The initial step involved loading the dataset into a Pandas dataframe, enabling us to explore its structure and familiarize ourselves with the variables. Through this process, we gained valuable knowledge about the dataset's size, column types, and potential areas for analysis.\n",
        "\n",
        "Data Cleaning for Accurate Analysis\n",
        "Data cleaning is crucial for maintaining data integrity and ensuring accurate analysis. We addressed missing values by implementing appropriate strategies, either through imputation or by removing rows/columns with excessive missing data. Furthermore, we conducted a thorough examination for duplicate entries, efficiently eliminating any redundancies in the dataset.\n",
        "\n",
        "Descriptive Statistics: Unveiling Central Tendencies and Variability\n",
        "To gain a comprehensive understanding of the dataset, we computed descriptive statistics for numerical columns, such as price, minimum nights, and number of reviews. By calculating measures like mean, median, minimum, maximum, and quartiles, we obtained a clear picture of the dataset's central tendencies and variability. Concurrently, we explored the frequency distribution of categorical variables, shedding light on the distribution of different categories within the dataset.\n",
        "\n",
        "Data Visualization: Unleashing Patterns and Trends\n",
        "Data visualization is a powerful tool that enables us to uncover hidden patterns and trends. Through various visualizations, including histograms, bar charts, scatter plots, and heatmaps, we embarked on a journey to explore relationships between variables and identify noteworthy insights. For instance, visualizations helped us analyze the distribution of prices across different neighborhoods and room types, ultimately enabling us to discern any spatial trends or disparities.\n",
        "\n",
        "Feature Engineering: Augmenting Analysis Dimensions\n",
        "To enrich our analysis, we delved into feature engineering. This process involved creating new features or modifying existing ones to extract more meaningful insights. By deriving additional features, such as the host's average reviews per month or the host's total listings, we were able to uncover fresh dimensions of analysis that provided richer context and enhanced our understanding of the dataset.\n",
        "\n",
        "Correlation Analysis: Discovering Relationships\n",
        "Correlation analysis was instrumental in identifying relationships between variables. By calculating correlation coefficients and visualizing them through a correlation matrix, we unraveled significant correlations that offered valuable insights. This analysis allowed us to identify factors that potentially influence pricing or impact the number of reviews, thereby empowering hosts and guests with crucial information for their decision-making processes.\n",
        "\n",
        "Temporal Analysis: Unveiling Trends Over Time\n",
        "The dataset contained temporal information, such as the last review date. Through temporal analysis, we explored trends over time, seasonal patterns, and any changes in host activity or reviews. This analysis provided valuable insights into the dynamic nature of Airbnb listings and revealed temporal factors that may influence bookings or reviews.\n",
        "\n",
        "Conclusion:\n",
        "In conclusion, this project's comprehensive exploratory data analysis of the Airbnb dataset has successfully unveiled key insights and patterns. By following a systematic approach that encompassed data loading, cleaning, descriptive statistics, data visualization, feature engineering, correlation analysis, and temporal analysis, we gained a profound understanding of the dataset's nuances. The analysis yielded actionable insights for hosts to optimize their listings and for guests to make informed decisions when booking stays. Ultimately, this project underscores the significance of EDA in extracting meaningful insights from data"
      ],
      "metadata": {
        "id": "YvA0kf035mOS"
      }
    },
    {
      "cell_type": "markdown",
      "source": [
        "# **GitHub Link -**"
      ],
      "metadata": {
        "id": "w6K7xa23Elo4"
      }
    },
    {
      "cell_type": "markdown",
      "source": [
        "https://github.com/Negiamit034"
      ],
      "metadata": {
        "id": "h1o69JH3Eqqn"
      }
    },
    {
      "cell_type": "markdown",
      "source": [
        "# **Problem Statement**\n"
      ],
      "metadata": {
        "id": "yQaldy8SH6Dl"
      }
    },
    {
      "cell_type": "markdown",
      "source": [
        "The goal of this project is to analyze the Airbnb dataset and address the following problem:\n",
        "\n",
        "\"How can we gain insights into the factors influencing the pricing and availability of Airbnb listings in a specific location?\"\n",
        "\n",
        "Key Components of the Problem Statement:\n",
        "\n",
        "1. Pricing Analysis: Identify the factors that significantly impact the pricing of Airbnb listings, such as room type, location, host characteristics, and amenities. Determine the extent to which each factor contributes to pricing variations.\n",
        "\n",
        "2. Availability Analysis: Investigate the factors affecting the availability of Airbnb listings throughout the year. Analyze seasonal patterns, identify periods of high and low availability, and explore potential correlations between availability and pricing.\n",
        "\n",
        "3. Location Influence: Examine the influence of specific neighborhoods or neighborhood groups on pricing and availability. Determine whether certain locations have higher demand or are associated with higher prices.\n",
        "\n",
        "4. Host Impact: Evaluate the impact of host characteristics, such as the number of listings they manage and their hosting history, on pricing and availability. Assess whether experienced or highly-rated hosts tend to charge more or have better availability.\n",
        "\n",
        "5. Recommendations: Based on the analysis, provide recommendations for both hosts and potential guests. Suggest strategies for hosts to optimize pricing and improve availability based on the identified influential factors. Offer insights for guests to find suitable listings based on pricing and availability patterns.\n",
        "\n",
        "By addressing this problem, we aim to provide valuable insights and recommendations to both hosts and guests in the Airbnb ecosystem, enabling them to make informed decisions and optimize their experience on the platform.**"
      ],
      "metadata": {
        "id": "DpeJGUA3kjGy"
      }
    },
    {
      "cell_type": "markdown",
      "source": [
        "#### **Define Your Business Objective?**"
      ],
      "metadata": {
        "id": "PH-0ReGfmX4f"
      }
    },
    {
      "cell_type": "markdown",
      "source": [
        "The primary business objective related to the Airbnb dataset analysis is to maximize the revenue and utilization of Airbnb listings by understanding the factors influencing pricing and availability. This involves:\n",
        "\n",
        "1. Optimizing Pricing Strategy: Gain insights into the key factors affecting pricing variations for Airbnb listings. By identifying the most influential factors, hosts can strategically set competitive prices to attract guests while maximizing their revenue.\n",
        "\n",
        "2. Enhancing Listing Availability: Understand the factors impacting the availability of listings throughout the year. By analyzing seasonal patterns and demand fluctuations, hosts can optimize their listing availability to ensure maximum utilization and minimize periods of low occupancy.\n",
        "\n",
        "3. Improving Guest Experience: Provide valuable insights and recommendations to potential guests regarding suitable listings based on pricing and availability. Enhancing the guest experience contributes to positive reviews, increased bookings, and potentially higher revenue for hosts.\n",
        "\n",
        "4. Supporting Business Decisions: The analysis of the Airbnb dataset can help inform strategic business decisions related to expansion, investment, and resource allocation. Understanding the market dynamics and influential factors can guide decision-makers in making informed choices to optimize business outcomes.\n",
        "\n",
        "Ultimately, the business objective is to drive profitability, increase occupancy rates, and improve customer satisfaction within the Airbnb ecosystem by leveraging data-driven insights and recommendations."
      ],
      "metadata": {
        "id": "PhDvGCAqmjP1"
      }
    },
    {
      "cell_type": "markdown",
      "source": [
        "# **General Guidelines** : -  "
      ],
      "metadata": {
        "id": "mDgbUHAGgjLW"
      }
    },
    {
      "cell_type": "markdown",
      "source": [
        "1.   Well-structured, formatted, and commented code is required.\n",
        "2.   Exception Handling, Production Grade Code & Deployment Ready Code will be a plus. Those students will be awarded some additional credits.\n",
        "     \n",
        "     The additional credits will have advantages over other students during Star Student selection.\n",
        "       \n",
        "             [ Note: - Deployment Ready Code is defined as, the whole .ipynb notebook should be executable in one go\n",
        "                       without a single error logged. ]\n",
        "\n",
        "3.   Each and every logic should have proper comments.\n",
        "4. You may add as many number of charts you want. Make Sure for each and every chart the following format should be answered.\n",
        "        \n",
        "\n",
        "```\n",
        "# Chart visualization code\n",
        "```\n",
        "            \n",
        "\n",
        "*   Why did you pick the specific chart?\n",
        "*   What is/are the insight(s) found from the chart?\n",
        "* Will the gained insights help creating a positive business impact?\n",
        "Are there any insights that lead to negative growth? Justify with specific reason.\n",
        "\n",
        "5. You have to create at least 20 logical & meaningful charts having important insights.\n",
        "\n",
        "\n",
        "[ Hints : - Do the Vizualization in  a structured way while following \"UBM\" Rule.\n",
        "\n",
        "U - Univariate Analysis,\n",
        "\n",
        "B - Bivariate Analysis (Numerical - Categorical, Numerical - Numerical, Categorical - Categorical)\n",
        "\n",
        "M - Multivariate Analysis\n",
        " ]\n",
        "\n",
        "\n",
        "\n"
      ],
      "metadata": {
        "id": "ZrxVaUj-hHfC"
      }
    },
    {
      "cell_type": "markdown",
      "source": [
        "# ***Let's Begin !***"
      ],
      "metadata": {
        "id": "O_i_v8NEhb9l"
      }
    },
    {
      "cell_type": "markdown",
      "source": [
        "## ***1. Know Your Data***"
      ],
      "metadata": {
        "id": "HhfV-JJviCcP"
      }
    },
    {
      "cell_type": "markdown",
      "source": [
        "### Import Libraries"
      ],
      "metadata": {
        "id": "Y3lxredqlCYt"
      }
    },
    {
      "cell_type": "code",
      "source": [
        "import numpy as np\n",
        "import pandas as pd\n",
        "import matplotlib.pyplot as plt\n",
        "import seaborn as sns"
      ],
      "metadata": {
        "id": "M8Vqi-pPk-HR"
      },
      "execution_count": null,
      "outputs": []
    },
    {
      "cell_type": "markdown",
      "source": [
        "### Dataset Loading"
      ],
      "metadata": {
        "id": "3RnN4peoiCZX"
      }
    },
    {
      "cell_type": "code",
      "source": [
        "from google.colab import drive\n",
        "drive.mount('/content/drive')"
      ],
      "metadata": {
        "id": "4CkvbW_SlZ_R"
      },
      "execution_count": null,
      "outputs": []
    },
    {
      "cell_type": "code",
      "source": [
        "airbnb_df=pd.read_csv('/content/drive/MyDrive/Airbnb NYC 2019.csv')"
      ],
      "metadata": {
        "id": "K5sX0NYf0Sxn"
      },
      "execution_count": null,
      "outputs": []
    },
    {
      "cell_type": "markdown",
      "source": [
        "### Dataset First View"
      ],
      "metadata": {
        "id": "x71ZqKXriCWQ"
      }
    },
    {
      "cell_type": "code",
      "source": [
        "airbnb_df # Dataset First Look"
      ],
      "metadata": {
        "id": "LWNFOSvLl09H"
      },
      "execution_count": null,
      "outputs": []
    },
    {
      "cell_type": "markdown",
      "source": [
        "### Dataset Rows & Columns count"
      ],
      "metadata": {
        "id": "7hBIi_osiCS2"
      }
    },
    {
      "cell_type": "code",
      "source": [
        "airbnb_df.shape # Dataset Rows & Columns count"
      ],
      "metadata": {
        "id": "Kllu7SJgmLij"
      },
      "execution_count": null,
      "outputs": []
    },
    {
      "cell_type": "markdown",
      "source": [
        "### Dataset Information"
      ],
      "metadata": {
        "id": "JlHwYmJAmNHm"
      }
    },
    {
      "cell_type": "code",
      "source": [
        "airbnb_df.info()     #Dataset Info"
      ],
      "metadata": {
        "id": "e9hRXRi6meOf"
      },
      "execution_count": null,
      "outputs": []
    },
    {
      "cell_type": "markdown",
      "source": [
        "#### Duplicate Values"
      ],
      "metadata": {
        "id": "35m5QtbWiB9F"
      }
    },
    {
      "cell_type": "code",
      "source": [
        "airbnb_df[airbnb_df.duplicated()].count() # Dataset Duplicate Value Count"
      ],
      "metadata": {
        "id": "1sLdpKYkmox0"
      },
      "execution_count": null,
      "outputs": []
    },
    {
      "cell_type": "markdown",
      "source": [
        "#### Missing Values/Null Values"
      ],
      "metadata": {
        "id": "PoPl-ycgm1ru"
      }
    },
    {
      "cell_type": "code",
      "source": [
        "missing_value=airbnb_df.isna()   # Missing Values/Null Values Count\n",
        "missing_value.sum()"
      ],
      "metadata": {
        "id": "GgHWkxvamxVg"
      },
      "execution_count": null,
      "outputs": []
    },
    {
      "cell_type": "code",
      "source": [
        "import missingno as msno    # Visualizing the missing values\n",
        "msno.matrix(airbnb_df)\n",
        "plt.show()"
      ],
      "metadata": {
        "id": "3q5wnI3om9sJ"
      },
      "execution_count": null,
      "outputs": []
    },
    {
      "cell_type": "markdown",
      "source": [
        "1.Reason for choosing the matrix plot:\n",
        "The matrix plot is often used as an initial visualization to quickly identify the presence and patterns of missing data across columns and rows. It helps visually highlight the density and distribution of missing values.\n",
        "\n",
        "2.Insights from the matrix plot:\n",
        "The insights obtained from the matrix plot may include:\n",
        "\n",
        "1.Identifying columns with a high concentration of missing values.\n",
        "\n",
        "2.Observing clusters or patterns of missingness in certain areas of the dataset.\n",
        "\n",
        "3.Recognizing potential relationships between missing values in different columns or rows.\n",
        "\n",
        "3.Potential positive business impact of gained insights:\n",
        "The gained insights can help create a positive business impact by:\n",
        "\n",
        "1.Guiding data cleaning and preprocessing efforts to handle missing values appropriately.\n",
        "\n",
        "2.Improving data quality by identifying and addressing areas with a high concentration of missing values.\n",
        "\n",
        "3.Enhancing decision-making and analysis by ensuring more complete and reliable data.\n",
        "\n",
        "4.Potential negative growth insights:\n",
        "\n",
        "If the matrix plot reveals a substantial amount of missing values in critical columns related to essential business factors (e.g., pricing, customer satisfaction), it could lead to negative growth. The insights gained would highlight the need to address data quality issues, as relying on incomplete or unreliable data may result in flawed analyses, inaccurate decision-making, and potentially dissatisfied customers."
      ],
      "metadata": {
        "id": "hMmyMrec4UFv"
      }
    },
    {
      "cell_type": "markdown",
      "source": [
        "### What did you know about your dataset?"
      ],
      "metadata": {
        "id": "H0kj-8xxnORC"
      }
    },
    {
      "cell_type": "markdown",
      "source": [
        "Airbnb datasets typically contain information about properties listed on the Airbnb platform, including various attributes and features associated with each listing. Some common fields that might be present in an Airbnb dataset include:  \n",
        "ID: A unique identifier for each listing.\n",
        "\n",
        "Name: The title or name of the listing.\n",
        "\n",
        "Host ID: A unique identifier for the host of the listing.\n",
        "\n",
        "Host Name: The name of the host.\n",
        "\n",
        "Neighbourhood Group: The group or category of the neighborhood where the listing is located.\n",
        "\n",
        "Neighbourhood: The specific neighborhood where the listing is situated.\n",
        "\n",
        "Latitude: The latitude coordinates of the listing's location.\n",
        "\n",
        "Longitude: The longitude coordinates of the listing's location.\n",
        "\n",
        "Room Type: The type of room or accommodation being offered (e.g., entire home/apartment, private room, shared room).\n",
        "\n",
        "Price: The price per night for the listing.\n",
        "\n",
        "Minimum Nights: The minimum number of nights required to book the listing.\n",
        "\n",
        "Number of Reviews: The total number of reviews received for the listing.\n",
        "\n",
        "Last Review: The date of the last review for the listing.\n",
        "\n",
        "Reviews per Month: The average number of reviews per month for the listing.\n",
        "\n",
        "Calculated Host Listings Count: The total number of listings managed by the host.\n",
        "\n",
        "Availability 365: The number of days the listing is available for booking within a year"
      ],
      "metadata": {
        "id": "gfoNAAC-nUe_"
      }
    },
    {
      "cell_type": "markdown",
      "source": [
        "## ***2. Understanding Your Variables***"
      ],
      "metadata": {
        "id": "nA9Y7ga8ng1Z"
      }
    },
    {
      "cell_type": "code",
      "source": [
        "airbnb_df.columns #Dataset columns"
      ],
      "metadata": {
        "id": "j7xfkqrt5Ag5"
      },
      "execution_count": null,
      "outputs": []
    },
    {
      "cell_type": "code",
      "source": [
        "airbnb_df.describe() # Dataset Describe"
      ],
      "metadata": {
        "id": "DnOaZdaE5Q5t"
      },
      "execution_count": null,
      "outputs": []
    },
    {
      "cell_type": "markdown",
      "source": [
        "### Variables Description"
      ],
      "metadata": {
        "id": "PBTbrJXOngz2"
      }
    },
    {
      "cell_type": "markdown",
      "source": [
        "Description of each variable in your Airbnb dataset:\n",
        "\n",
        "1. ID: A unique identifier for each listing. It helps to distinguish one listing from another.\n",
        "\n",
        "2. Name: The title or name of the listing. It provides a brief description or title for the property.\n",
        "\n",
        "3. Host ID: A unique identifier for the host of the listing. It helps identify the host associated with a particular listing.\n",
        "\n",
        "4. Host Name: The name of the host. It indicates the name of the person who owns or manages the listing.\n",
        "\n",
        "5. Neighbourhood Group: The group or category of the neighborhood where the listing is located. It classifies the neighborhood based on a broader grouping or category.\n",
        "\n",
        "6. Neighbourhood: The specific neighborhood where the listing is situated. It provides the name of the neighborhood or area where the property is located.\n",
        "\n",
        "7. Latitude: The latitude coordinates of the listing's location. It represents the geographic location on the Earth's surface in terms of latitude.\n",
        "\n",
        "8. Longitude: The longitude coordinates of the listing's location. It represents the geographic location on the Earth's surface in terms of longitude.\n",
        "\n",
        "9. Room Type: The type of room or accommodation being offered. It describes the type of space available for booking, such as an entire home/apartment, private room, or shared room.\n",
        "\n",
        "10. Price: The price per night for the listing. It indicates the cost of booking the property for one night.\n",
        "\n",
        "11. Minimum Nights: The minimum number of nights required to book the listing. It specifies the minimum duration of stay set by the host.\n",
        "\n",
        "12. Number of Reviews: The total number of reviews received for the listing. It represents the cumulative count of reviews provided by guests who have stayed at the property.\n",
        "\n",
        "13. Last Review: The date of the last review for the listing. It indicates the most recent date when a review was posted for the property.\n",
        "\n",
        "14. Reviews per Month: The average number of reviews per month for the listing. It calculates the average monthly review count based on the total number of reviews and the duration of time the listing has been available.\n",
        "\n",
        "15. Calculated Host Listings Count: The total number of listings managed by the host. It denotes the count of all the properties the host is managing or offering on the platform.\n",
        "\n",
        "16. Availability 365: The number of days the listing is available for booking within a year. It represents the total count of days the property is available for booking out of 365 days in a year."
      ],
      "metadata": {
        "id": "aJV4KIxSnxay"
      }
    },
    {
      "cell_type": "markdown",
      "source": [
        "### Check Unique Values for each variable."
      ],
      "metadata": {
        "id": "u3PMJOP6ngxN"
      }
    },
    {
      "cell_type": "code",
      "source": [
        "airbnb_df.columns"
      ],
      "metadata": {
        "id": "SP5FHoIcx45d"
      },
      "execution_count": null,
      "outputs": []
    },
    {
      "cell_type": "code",
      "source": [
        "# ID\n",
        "unique_ids = airbnb_df['id'].nunique()\n",
        "print(\"Number of unique IDs:\", unique_ids)\n",
        "\n",
        "# Name\n",
        "unique_names = airbnb_df['name'].nunique()\n",
        "print(\"Unique names:\", unique_names)\n",
        "\n",
        "# Host ID\n",
        "unique_host_ids = airbnb_df['host_id'].nunique()\n",
        "print(\"Number of unique host IDs:\", unique_host_ids)\n",
        "\n",
        "# Host Name\n",
        "unique_host_names = airbnb_df['host_name'].nunique()\n",
        "print(\"Unique host names:\", unique_host_names)\n",
        "\n",
        "# Neighbourhood Group\n",
        "unique_neighbourhood_groups = airbnb_df['neighbourhood_group'].nunique()\n",
        "print(\"Unique neighbourhood groups:\", unique_neighbourhood_groups)\n",
        "\n",
        "# Neighbourhood\n",
        "unique_neighbourhoods = airbnb_df['neighbourhood'].nunique()\n",
        "print(\"Unique neighbourhoods:\", unique_neighbourhoods)\n",
        "\n",
        "# Latitude\n",
        "unique_latitudes = airbnb_df['latitude'].nunique()\n",
        "print(\"Unique latitudes:\", unique_latitudes)\n",
        "\n",
        "# Longitude\n",
        "unique_longitudes = airbnb_df['longitude'].nunique()\n",
        "print(\"Unique longitudes:\", unique_longitudes)\n",
        "\n",
        "# Room Type\n",
        "unique_room_types = airbnb_df['room_type'].nunique()\n",
        "print(\"Unique room types:\", unique_room_types)\n",
        "\n",
        "# Price\n",
        "unique_prices = airbnb_df['price'].nunique()\n",
        "print(\"Unique prices:\", unique_prices)\n",
        "\n",
        "# Minimum Nights\n",
        "unique_min_nights = airbnb_df['minimum_nights'].nunique()\n",
        "print(\"Unique minimum nights:\", unique_min_nights)\n",
        "\n",
        "# Number of Reviews\n",
        "unique_num_reviews = airbnb_df['number_of_reviews'].nunique()\n",
        "print(\"Unique number of reviews:\", unique_num_reviews)\n",
        "\n",
        "# Last Review\n",
        "unique_last_reviews = airbnb_df['last_review'].nunique()\n",
        "print(\"Unique last reviews:\", unique_last_reviews)\n",
        "\n",
        "# Reviews per Month\n",
        "unique_reviews_per_month = airbnb_df['reviews_per_month'].nunique()\n",
        "print(\"Unique reviews per month:\", unique_reviews_per_month)\n",
        "\n",
        "# Calculated Host Listings Count\n",
        "unique_host_listings_count = airbnb_df['calculated_host_listings_count'].nunique()\n",
        "print(\"Unique calculated host listings count:\", unique_host_listings_count)\n",
        "\n",
        "# Availability 365\n",
        "unique_availabilities = airbnb_df['availability_365'].nunique()\n",
        "print(\"Unique availabilities:\", unique_availabilities)\n"
      ],
      "metadata": {
        "id": "9JuBTc1EzT1F"
      },
      "execution_count": null,
      "outputs": []
    },
    {
      "cell_type": "markdown",
      "source": [
        "## 3. ***Data Wrangling***"
      ],
      "metadata": {
        "id": "dauF4eBmngu3"
      }
    },
    {
      "cell_type": "markdown",
      "source": [
        "### Data Wrangling Code"
      ],
      "metadata": {
        "id": "bKJF3rekwFvQ"
      }
    },
    {
      "cell_type": "code",
      "source": [
        "airbnb_df.info()"
      ],
      "metadata": {
        "id": "ifrTWVWZ0OPT"
      },
      "execution_count": null,
      "outputs": []
    },
    {
      "cell_type": "code",
      "source": [
        "airbnb_df=airbnb_df.drop(columns=['host_id','host_name'],axis=1)"
      ],
      "metadata": {
        "id": "U6AiE3v10xnn"
      },
      "execution_count": null,
      "outputs": []
    },
    {
      "cell_type": "code",
      "source": [
        "airbnb_df['availability_365'].value_counts()"
      ],
      "metadata": {
        "id": "TdkCxP3e1pz0"
      },
      "execution_count": null,
      "outputs": []
    },
    {
      "cell_type": "code",
      "source": [
        "# Replace 0 with 'unknown' in the 'availability_365' column\n",
        "airbnb_df['availability_365'] = airbnb_df['availability_365'].replace(0,'Unknown')\n",
        "\n",
        "# Check the updated value counts\n",
        "airbnb_df['availability_365'].value_counts()"
      ],
      "metadata": {
        "id": "Btmz8e4A10ND"
      },
      "execution_count": null,
      "outputs": []
    },
    {
      "cell_type": "markdown",
      "source": [
        "### What all manipulations have you done and insights you found?"
      ],
      "metadata": {
        "id": "MSa1f5Uengrz"
      }
    },
    {
      "cell_type": "markdown",
      "source": [
        "1. Dropping Columns:\n",
        "   - I dropped the 'host_id' and 'host_name' columns from the `airbnb_df` dataframe using the `drop()` function with the `columns` parameter and `axis=1`.\n",
        "   - Description: This manipulation removes the 'host_id' and 'host_name' columns from the dataset.\n",
        "   - Insights: By dropping these columns,focusing on other aspects of the dataset that are more relevant to your analysis. This can help reduce the dimensionality of the data and potentially simplify your analysis.\n",
        "\n",
        "2. Replacing 0 with 'Unknown':\n",
        "   - I replaced the value 0 in the 'availability_365' column with the string 'Unknown' using the `replace()` function.\n",
        "   - Description: This manipulation replaces all occurrences of 0 in the 'availability_365' column with the value 'Unknown'.\n",
        "   - Insights: By replacing 0 with 'Unknown',providing a more descriptive label for listings that have availability of 0 days. This change can help differentiate them from other listings and potentially highlight their unique characteristics or booking restrictions.\n",
        "\n",
        "3. Checking Updated Value Counts:\n",
        "   - I checked the updated value counts of the 'availability_365' column after replacing 0 with 'Unknown' using the `value_counts()` function.\n",
        "   - Description: This step provides the count of unique values in the 'availability_365' column.\n",
        "   - Insights: By examining the updated value counts, I can gain insights into the distribution of availability periods within the dataset. You can observe the frequency of different availability periods (e.g., Unknown, 365 days) and potentially identify any patterns or trends in the data.\n",
        "\n",
        "Overall, the manipulations I performed involve removing unnecessary columns and modifying a specific column to provide clearer information. These manipulations can help streamline analysis and provide more meaningful insights by focusing on relevant variables and enhancing the interpretation of the 'availability_365' column."
      ],
      "metadata": {
        "id": "LbyXE7I1olp8"
      }
    },
    {
      "cell_type": "markdown",
      "source": [
        "## ***4. Data Vizualization, Storytelling & Experimenting with charts : Understand the relationships between variables***"
      ],
      "metadata": {
        "id": "GF8Ens_Soomf"
      }
    },
    {
      "cell_type": "code",
      "source": [
        "airbnb_df.corr()"
      ],
      "metadata": {
        "id": "rsCx1-zx4_kg"
      },
      "execution_count": null,
      "outputs": []
    },
    {
      "cell_type": "markdown",
      "source": [
        "#### Chart - 1"
      ],
      "metadata": {
        "id": "0wOQAZs5pc--"
      }
    },
    {
      "cell_type": "code",
      "source": [
        "airbnb_df.info()"
      ],
      "metadata": {
        "id": "cLYl4Sy1CeOW"
      },
      "execution_count": null,
      "outputs": []
    },
    {
      "cell_type": "code",
      "source": [
        "#Bar Chart - Neighbourhood Group Distribution:\n",
        "import matplotlib.pyplot as plt\n",
        "\n",
        "# Plotting the bar plot\n",
        "ax = airbnb_df['neighbourhood_group'].value_counts().plot(kind='bar')\n",
        "\n",
        "# Setting the title and labels\n",
        "ax.set_title('Distribution of Listings by Neighbourhood Group')\n",
        "ax.set_xlabel('Neighbourhood Group')\n",
        "ax.set_ylabel('Count')\n",
        "\n",
        "# Displaying the plot\n",
        "plt.show()"
      ],
      "metadata": {
        "id": "7v_ESjsspbW7"
      },
      "execution_count": null,
      "outputs": []
    },
    {
      "cell_type": "markdown",
      "source": [
        "##### 1. Why did you pick the specific chart?"
      ],
      "metadata": {
        "id": "K5QZ13OEpz2H"
      }
    },
    {
      "cell_type": "markdown",
      "source": [
        "To visualize the distribution of listings across different neighbourhood groups."
      ],
      "metadata": {
        "id": "XESiWehPqBRc"
      }
    },
    {
      "cell_type": "markdown",
      "source": [
        "##### 2. What is/are the insight(s) found from the chart?"
      ],
      "metadata": {
        "id": "lQ7QKXXCp7Bj"
      }
    },
    {
      "cell_type": "markdown",
      "source": [
        "Identify which neighbourhood groups have the highest number of listings, which can help in targeting specific areas for business opportunities."
      ],
      "metadata": {
        "id": "C_j1G7yiqdRP"
      }
    },
    {
      "cell_type": "markdown",
      "source": [
        "##### 3. Will the gained insights help creating a positive business impact?\n",
        "Are there any insights that lead to negative growth? Justify with specific reason."
      ],
      "metadata": {
        "id": "448CDAPjqfQr"
      }
    },
    {
      "cell_type": "markdown",
      "source": [
        "Yes,By the distrubution of listing across different neighbourhood groups we are able to find psitive impact so bases on the result we can focus on that neighbourhood group."
      ],
      "metadata": {
        "id": "3cspy4FjqxJW"
      }
    },
    {
      "cell_type": "markdown",
      "source": [
        "#### Chart - 2"
      ],
      "metadata": {
        "id": "KSlN3yHqYklG"
      }
    },
    {
      "cell_type": "code",
      "source": [
        "\n",
        "airbnb_df['room_type'].value_counts()"
      ],
      "metadata": {
        "id": "Eqrlt56IIfU_"
      },
      "execution_count": null,
      "outputs": []
    },
    {
      "cell_type": "code",
      "source": [
        "#Pie Chart - Room Type Distribution:\n",
        "import matplotlib.pyplot as plt\n",
        "\n",
        "# Plotting the pie chart\n",
        "ax = airbnb_df['room_type'].value_counts().plot(kind='pie', autopct='%1.1f%%')\n",
        "\n",
        "# Setting the title and labels\n",
        "ax.set_title('Room Type Distribution')\n",
        "ax.set_ylabel('')\n",
        "\n",
        "# Displaying the plot\n",
        "plt.show()"
      ],
      "metadata": {
        "id": "R4YgtaqtYklH"
      },
      "execution_count": null,
      "outputs": []
    },
    {
      "cell_type": "markdown",
      "source": [
        "##### 1. Why did you pick the specific chart?"
      ],
      "metadata": {
        "id": "t6dVpIINYklI"
      }
    },
    {
      "cell_type": "markdown",
      "source": [
        "To show the proportion of each room type in the dataset."
      ],
      "metadata": {
        "id": "5aaW0BYyYklI"
      }
    },
    {
      "cell_type": "markdown",
      "source": [
        "##### 2. What is/are the insight(s) found from the chart?"
      ],
      "metadata": {
        "id": "ijmpgYnKYklI"
      }
    },
    {
      "cell_type": "markdown",
      "source": [
        "Determine the most common room types available, which can inform business decisions on property investments or marketing strategies."
      ],
      "metadata": {
        "id": "PSx9atu2YklI"
      }
    },
    {
      "cell_type": "markdown",
      "source": [
        "##### 3. Will the gained insights help creating a positive business impact?\n",
        "Are there any insights that lead to negative growth? Justify with specific reason."
      ],
      "metadata": {
        "id": "-JiQyfWJYklI"
      }
    },
    {
      "cell_type": "markdown",
      "source": [
        "Insights from the Airbnb dataset indicate a positive business impact through high demand for entire homes/apartments and private rooms. However, the limited demand for shared rooms suggests potential challenges and slower growth for hosts in that category. Additional factors like pricing and customer preferences should be considered for informed decision-making."
      ],
      "metadata": {
        "id": "BcBbebzrYklV"
      }
    },
    {
      "cell_type": "markdown",
      "source": [
        "#### Chart - 3"
      ],
      "metadata": {
        "id": "EM7whBJCYoAo"
      }
    },
    {
      "cell_type": "code",
      "source": [
        "import matplotlib.pyplot as plt\n",
        "\n",
        "# Plotting the histogram\n",
        "plt.figure(figsize=(10, 6))  # Adjust the figure size if desired\n",
        "plt.hist(airbnb_df['price'], bins=20, edgecolor='black')\n",
        "\n",
        "# Setting the title and labels\n",
        "plt.title('Price Distribution')\n",
        "plt.xlabel('Price')\n",
        "plt.ylabel('Frequency')\n",
        "\n",
        "# Adding grid lines for better readability\n",
        "plt.grid(True, axis='y')\n",
        "\n",
        "# Displaying the plot\n",
        "plt.show()\n"
      ],
      "metadata": {
        "id": "t6GMdE67YoAp"
      },
      "execution_count": null,
      "outputs": []
    },
    {
      "cell_type": "markdown",
      "source": [
        "##### 1. Why did you pick the specific chart?"
      ],
      "metadata": {
        "id": "fge-S5ZAYoAp"
      }
    },
    {
      "cell_type": "markdown",
      "source": [
        "To visualize the distribution of listing prices."
      ],
      "metadata": {
        "id": "5dBItgRVYoAp"
      }
    },
    {
      "cell_type": "markdown",
      "source": [
        "##### 2. What is/are the insight(s) found from the chart?"
      ],
      "metadata": {
        "id": "85gYPyotYoAp"
      }
    },
    {
      "cell_type": "markdown",
      "source": [
        "Understand the price range of listings and identify any outliers or skewed distributions."
      ],
      "metadata": {
        "id": "4jstXR6OYoAp"
      }
    },
    {
      "cell_type": "markdown",
      "source": [
        "##### 3. Will the gained insights help creating a positive business impact?\n",
        "Are there any insights that lead to negative growth? Justify with specific reason."
      ],
      "metadata": {
        "id": "RoGjAbkUYoAp"
      }
    },
    {
      "cell_type": "markdown",
      "source": [
        "Insights from the price distribution histogram of the Airbnb dataset can help create a positive business impact by identifying popular price ranges and optimizing pricing strategies. Overpriced listings and limited availability in affordable ranges may lead to negative growth and should be addressed."
      ],
      "metadata": {
        "id": "zfJ8IqMcYoAp"
      }
    },
    {
      "cell_type": "markdown",
      "source": [
        "#### Chart - 4"
      ],
      "metadata": {
        "id": "4Of9eVA-YrdM"
      }
    },
    {
      "cell_type": "code",
      "source": [
        "#Scatter Plot - Latitude vs. Longitude:\n",
        "\n",
        "# Plotting the scatter plot\n",
        "plt.figure(figsize=(10, 8))  # Adjust the figure size if desired\n",
        "plt.scatter(airbnb_df['longitude'], airbnb_df['latitude'], alpha=0.6, c='b', edgecolors='k')\n",
        "\n",
        "# Setting the title and labels\n",
        "plt.title('Latitude vs. Longitude')\n",
        "plt.xlabel('Longitude')\n",
        "plt.ylabel('Latitude')\n",
        "\n",
        "# Adding grid lines for better readability\n",
        "plt.grid(True)\n",
        "\n",
        "# Displaying the plot\n",
        "plt.show()\n"
      ],
      "metadata": {
        "id": "irlUoxc8YrdO"
      },
      "execution_count": null,
      "outputs": []
    },
    {
      "cell_type": "markdown",
      "source": [
        "##### 1. Why did you pick the specific chart?"
      ],
      "metadata": {
        "id": "iky9q4vBYrdO"
      }
    },
    {
      "cell_type": "markdown",
      "source": [
        " To plot the geographical locations of listings."
      ],
      "metadata": {
        "id": "aJRCwT6DYrdO"
      }
    },
    {
      "cell_type": "markdown",
      "source": [
        "##### 2. What is/are the insight(s) found from the chart?"
      ],
      "metadata": {
        "id": "F6T5p64dYrdO"
      }
    },
    {
      "cell_type": "markdown",
      "source": [
        "Visualize the spatial distribution of listings and identify clusters or patterns based on latitude and longitude."
      ],
      "metadata": {
        "id": "Xx8WAJvtYrdO"
      }
    },
    {
      "cell_type": "markdown",
      "source": [
        "##### 3. Will the gained insights help creating a positive business impact?\n",
        "Are there any insights that lead to negative growth? Justify with specific reason."
      ],
      "metadata": {
        "id": "y-Ehk30pYrdP"
      }
    },
    {
      "cell_type": "markdown",
      "source": [
        "The scatter plot of latitude vs. longitude does not directly provide insights for creating a positive business impact. Instead, it visualizes the geographic distribution of the Airbnb listings. However, by analyzing the scatter plot in combination with other data and factors, such as popular neighborhoods or proximity to attractions, hosts and businesses can gain insights that may contribute to a positive business impact. These insights can inform decisions related to targeting specific areas, optimizing marketing strategies, and identifying potential growth opportunities."
      ],
      "metadata": {
        "id": "jLNxxz7MYrdP"
      }
    },
    {
      "cell_type": "markdown",
      "source": [
        "#### Chart - 5"
      ],
      "metadata": {
        "id": "bamQiAODYuh1"
      }
    },
    {
      "cell_type": "code",
      "source": [
        "airbnb_df['neighbourhood_group'].value_counts()"
      ],
      "metadata": {
        "id": "cKtZt4ktK6-S"
      },
      "execution_count": null,
      "outputs": []
    },
    {
      "cell_type": "code",
      "source": [
        "#Box Plot - Price Distribution by Neighbourhood Group:\n",
        "plt.figure(figsize=(10, 8))  # Adjust the figure size if desired\n",
        "airbnb_df.boxplot(column='price', by='neighbourhood_group')\n",
        "\n",
        "# Setting the title and labels\n",
        "plt.title('Price Distribution by Neighbourhood Group')\n",
        "plt.xlabel('Neighbourhood Group')\n",
        "plt.ylabel('Price')\n",
        "\n",
        "# Rotating the x-axis labels for better readability\n",
        "plt.xticks(rotation=45)\n",
        "\n",
        "# Displaying the plot\n",
        "plt.show()\n"
      ],
      "metadata": {
        "id": "TIJwrbroYuh3"
      },
      "execution_count": null,
      "outputs": []
    },
    {
      "cell_type": "markdown",
      "source": [
        "##### 1. Why did you pick the specific chart?"
      ],
      "metadata": {
        "id": "QHF8YVU7Yuh3"
      }
    },
    {
      "cell_type": "markdown",
      "source": [
        "To compare the price distributions across different neighbourhood groups."
      ],
      "metadata": {
        "id": "dcxuIMRPYuh3"
      }
    },
    {
      "cell_type": "markdown",
      "source": [
        "##### 2. What is/are the insight(s) found from the chart?"
      ],
      "metadata": {
        "id": "GwzvFGzlYuh3"
      }
    },
    {
      "cell_type": "markdown",
      "source": [
        "Identify variations in prices between neighbourhood groups, helping in pricing strategies or targeting specific market segments.\n"
      ],
      "metadata": {
        "id": "uyqkiB8YYuh3"
      }
    },
    {
      "cell_type": "markdown",
      "source": [
        "##### 3. Will the gained insights help creating a positive business impact?\n",
        "Are there any insights that lead to negative growth? Justify with specific reason."
      ],
      "metadata": {
        "id": "qYpmQ266Yuh3"
      }
    },
    {
      "cell_type": "markdown",
      "source": [
        "Insights from the box plot of price distribution by neighborhood group show variations in prices across different areas. Manhattan and Brooklyn have the highest number of listings, indicating potential positive business impact. However, the presence of higher-priced listings in Manhattan may lead to negative growth for budget-conscious travelers in that area."
      ],
      "metadata": {
        "id": "_WtzZ_hCYuh4"
      }
    },
    {
      "cell_type": "markdown",
      "source": [
        "#### Chart - 6"
      ],
      "metadata": {
        "id": "OH-pJp9IphqM"
      }
    },
    {
      "cell_type": "code",
      "source": [
        "#Line Chart - Number of Reviews over Time:\n",
        "plt.figure(figsize=(10, 6))  # Adjust the figure size if desired\n",
        "airbnb_df.groupby('last_review')['number_of_reviews'].sum().plot(kind='line')\n",
        "\n",
        "# Setting the title and labels\n",
        "plt.title('Number of Reviews over Time')\n",
        "plt.xlabel('Last Review Date')\n",
        "plt.ylabel('Number of Reviews')\n",
        "\n",
        "# Displaying the plot\n",
        "plt.show()\n"
      ],
      "metadata": {
        "id": "kuRf4wtuphqN"
      },
      "execution_count": null,
      "outputs": []
    },
    {
      "cell_type": "markdown",
      "source": [
        "##### 1. Why did you pick the specific chart?"
      ],
      "metadata": {
        "id": "bbFf2-_FphqN"
      }
    },
    {
      "cell_type": "markdown",
      "source": [
        "To track the cumulative number of reviews over time."
      ],
      "metadata": {
        "id": "loh7H2nzphqN"
      }
    },
    {
      "cell_type": "markdown",
      "source": [
        "##### 2. What is/are the insight(s) found from the chart?"
      ],
      "metadata": {
        "id": "_ouA3fa0phqN"
      }
    },
    {
      "cell_type": "markdown",
      "source": [
        "Analyze trends in review activity and assess the popularity or performance of listings over different periods."
      ],
      "metadata": {
        "id": "VECbqPI7phqN"
      }
    },
    {
      "cell_type": "markdown",
      "source": [
        "##### 3. Will the gained insights help creating a positive business impact?\n",
        "Are there any insights that lead to negative growth? Justify with specific reason."
      ],
      "metadata": {
        "id": "Seke61FWphqN"
      }
    },
    {
      "cell_type": "markdown",
      "source": [
        "Yes,The provided insights from the groupby operation on the \"last_review\" column, summing the \"number_of_reviews,\" reflect the cumulative reviews for each date"
      ],
      "metadata": {
        "id": "DW4_bGpfphqN"
      }
    },
    {
      "cell_type": "markdown",
      "source": [
        "#### Chart - 7"
      ],
      "metadata": {
        "id": "PIIx-8_IphqN"
      }
    },
    {
      "cell_type": "code",
      "source": [
        "#tacked Bar Chart - Neighbourhood Group Distribution by Room Type:\n",
        "plt.figure(figsize=(10, 8))  # Adjust the figure size if desired\n",
        "pd.crosstab(airbnb_df['neighbourhood_group'], airbnb_df['room_type']).plot(kind='bar', stacked=True)\n",
        "\n",
        "# Setting the title and labels\n",
        "plt.title('Neighbourhood Group Distribution by Room Type')\n",
        "plt.xlabel('Neighbourhood Group')\n",
        "plt.ylabel('Count')\n",
        "\n",
        "# Displaying the plot\n",
        "plt.show()\n"
      ],
      "metadata": {
        "id": "lqAIGUfyphqO"
      },
      "execution_count": null,
      "outputs": []
    },
    {
      "cell_type": "markdown",
      "source": [
        "##### 1. Why did you pick the specific chart?"
      ],
      "metadata": {
        "id": "t27r6nlMphqO"
      }
    },
    {
      "cell_type": "markdown",
      "source": [
        "To visualize the distribution of room types within each neighbourhood group."
      ],
      "metadata": {
        "id": "iv6ro40sphqO"
      }
    },
    {
      "cell_type": "markdown",
      "source": [
        "##### 2. What is/are the insight(s) found from the chart?"
      ],
      "metadata": {
        "id": "r2jJGEOYphqO"
      }
    },
    {
      "cell_type": "markdown",
      "source": [
        "Identify the predominant room types in different neighbourhood groups, enabling targeted marketing or investment decisions."
      ],
      "metadata": {
        "id": "Po6ZPi4hphqO"
      }
    },
    {
      "cell_type": "markdown",
      "source": [
        "##### 3. Will the gained insights help creating a positive business impact?\n",
        "Are there any insights that lead to negative growth? Justify with specific reason."
      ],
      "metadata": {
        "id": "b0JNsNcRphqO"
      }
    },
    {
      "cell_type": "markdown",
      "source": [
        "The gained insights from the stacked bar chart of room type distribution by neighborhood group can contribute to a positive business impact. It helps identify popular room types in each neighborhood, enabling hosts to align their offerings with demand"
      ],
      "metadata": {
        "id": "xvSq8iUTphqO"
      }
    },
    {
      "cell_type": "markdown",
      "source": [
        "#### Chart - 8"
      ],
      "metadata": {
        "id": "BZR9WyysphqO"
      }
    },
    {
      "cell_type": "code",
      "source": [
        "#Violin Plot - Price Distribution by Neighbourhood Group and Room Type:\n",
        "plt.figure(figsize=(10, 8))  # Adjust the figure size if desired\n",
        "sns.violinplot(data=airbnb_df, x='neighbourhood_group', y='price', hue='room_type')\n",
        "\n",
        "# Setting the title and labels\n",
        "plt.title('Price Distribution by Neighbourhood Group and Room Type')\n",
        "plt.xlabel('Neighbourhood Group')\n",
        "plt.ylabel('Price')\n",
        "\n",
        "# Displaying the plot\n",
        "plt.show()"
      ],
      "metadata": {
        "id": "TdPTWpAVphqO"
      },
      "execution_count": null,
      "outputs": []
    },
    {
      "cell_type": "markdown",
      "source": [
        "##### 1. Why did you pick the specific chart?"
      ],
      "metadata": {
        "id": "jj7wYXLtphqO"
      }
    },
    {
      "cell_type": "markdown",
      "source": [
        "To compare the price distributions across neighbourhood groups and room types simultaneously."
      ],
      "metadata": {
        "id": "Ob8u6rCTphqO"
      }
    },
    {
      "cell_type": "markdown",
      "source": [
        "##### 2. What is/are the insight(s) found from the chart?"
      ],
      "metadata": {
        "id": "eZrbJ2SmphqO"
      }
    },
    {
      "cell_type": "markdown",
      "source": [
        "Assess the price ranges and variations within neighbourhood groups and room types, identifying potential pricing strategies."
      ],
      "metadata": {
        "id": "mZtgC_hjphqO"
      }
    },
    {
      "cell_type": "markdown",
      "source": [
        "##### 3. Will the gained insights help creating a positive business impact?\n",
        "Are there any insights that lead to negative growth? Justify with specific reason."
      ],
      "metadata": {
        "id": "rFu4xreNphqO"
      }
    },
    {
      "cell_type": "markdown",
      "source": [
        "Yes,gained insights from the violin plot of price distribution by neighborhood group and room type can support creating a positive business impact. It helps identify price ranges that are popular in each neighborhood and for each room type, allowing hosts to optimize pricing strategies. However, if there are limited bookings or high prices in certain room types or neighborhoods, it may result in negative growth due to decreased demand or affordability concerns."
      ],
      "metadata": {
        "id": "ey_0qi68phqO"
      }
    },
    {
      "cell_type": "markdown",
      "source": [
        "#### Chart - 9"
      ],
      "metadata": {
        "id": "YJ55k-q6phqO"
      }
    },
    {
      "cell_type": "code",
      "source": [
        "#Scatter Plot - Minimum Nights vs. Price:\n",
        "plt.figure(figsize=(10, 8))  # Adjust the figure size if desired\n",
        "airbnb_df.plot(kind='scatter', x='minimum_nights', y='price')\n",
        "\n",
        "# Setting the title and labels\n",
        "plt.title('Minimum Nights vs. Price')\n",
        "plt.xlabel('Minimum Nights')\n",
        "plt.ylabel('Price')\n",
        "\n",
        "# Displaying the plot\n",
        "plt.show()"
      ],
      "metadata": {
        "id": "B2aS4O1ophqO"
      },
      "execution_count": null,
      "outputs": []
    },
    {
      "cell_type": "markdown",
      "source": [
        "##### 1. Why did you pick the specific chart?"
      ],
      "metadata": {
        "id": "gCFgpxoyphqP"
      }
    },
    {
      "cell_type": "markdown",
      "source": [
        " To analyze the relationship between the minimum number of nights and the listing price."
      ],
      "metadata": {
        "id": "TVxDimi2phqP"
      }
    },
    {
      "cell_type": "markdown",
      "source": [
        "##### 2. What is/are the insight(s) found from the chart?"
      ],
      "metadata": {
        "id": "OVtJsKN_phqQ"
      }
    },
    {
      "cell_type": "markdown",
      "source": [
        "Assess whether longer minimum stay requirements correlate with higher or lower prices, helping in setting minimum night policies or pricing strategies.\n",
        "\n"
      ],
      "metadata": {
        "id": "ngGi97qjphqQ"
      }
    },
    {
      "cell_type": "markdown",
      "source": [
        "##### 3. Will the gained insights help creating a positive business impact?\n",
        "Are there any insights that lead to negative growth? Justify with specific reason."
      ],
      "metadata": {
        "id": "lssrdh5qphqQ"
      }
    },
    {
      "cell_type": "markdown",
      "source": [
        " There is a possibility of negative growth if there is a strong negative correlation between minimum nights and price. If higher prices are associated with longer minimum night requirements, it may deter potential guests, especially those seeking shorter stays. This can lead to a decrease in bookings and potential negative impact on business growth. Hosts should carefully consider the balance between price and minimum night requirements to avoid potential negative consequences.\n",
        "\n",
        "\n",
        "\n",
        "\n"
      ],
      "metadata": {
        "id": "HRpYHGsbQjmO"
      }
    },
    {
      "cell_type": "markdown",
      "source": [
        "#### Chart - 10"
      ],
      "metadata": {
        "id": "U2RJ9gkRphqQ"
      }
    },
    {
      "cell_type": "code",
      "source": [
        "#Scatter Plot - Number of Reviews vs. Reviews per Month:\n",
        "plt.figure(figsize=(10, 8))  # Adjust the figure size if desired\n",
        "plt.scatter(airbnb_df['number_of_reviews'], airbnb_df['reviews_per_month'], alpha=0.5, color='blue')\n",
        "\n",
        "# Setting the title and labels\n",
        "plt.title('Number of Reviews vs. Reviews per Month')\n",
        "plt.xlabel('Number of Reviews')\n",
        "plt.ylabel('Reviews per Month')\n",
        "\n",
        "# Customizing the plot\n",
        "plt.grid(True)\n",
        "plt.legend(['Data points'])\n",
        "plt.tight_layout()\n",
        "\n",
        "# Displaying the plot\n",
        "plt.show()"
      ],
      "metadata": {
        "id": "GM7a4YP4phqQ"
      },
      "execution_count": null,
      "outputs": []
    },
    {
      "cell_type": "markdown",
      "source": [
        "##### 1. Why did you pick the specific chart?"
      ],
      "metadata": {
        "id": "1M8mcRywphqQ"
      }
    },
    {
      "cell_type": "markdown",
      "source": [
        "To explore the relationship between the total number of reviews and the average number of reviews per month"
      ],
      "metadata": {
        "id": "8agQvks0phqQ"
      }
    },
    {
      "cell_type": "markdown",
      "source": [
        "##### 2. What is/are the insight(s) found from the chart?"
      ],
      "metadata": {
        "id": "tgIPom80phqQ"
      }
    },
    {
      "cell_type": "markdown",
      "source": [
        "Answer Here"
      ],
      "metadata": {
        "id": "Qp13pnNzphqQ"
      }
    },
    {
      "cell_type": "markdown",
      "source": [
        "##### 3. Will the gained insights help creating a positive business impact?\n",
        "Are there any insights that lead to negative growth? Justify with specific reason."
      ],
      "metadata": {
        "id": "JMzcOPDDphqR"
      }
    },
    {
      "cell_type": "markdown",
      "source": [
        "The insights from the data suggest that higher number_of_reviews and reviews_per_month can create a positive business impact by attracting more bookings and indicating guest satisfaction. However, lower values may lead to negative growth, indicating lower guest engagement and potential dissatisfaction."
      ],
      "metadata": {
        "id": "R4Ka1PC2phqR"
      }
    },
    {
      "cell_type": "markdown",
      "source": [
        "#### Chart - 11"
      ],
      "metadata": {
        "id": "x-EpHcCOp1ci"
      }
    },
    {
      "cell_type": "code",
      "source": [
        "#Line Chart - Average Price by Neighbourhood\n",
        "neighbourhood_prices = airbnb_df.groupby('neighbourhood')['price'].mean().sort_values()\n",
        "\n",
        "# Creating the line chart\n",
        "plt.figure(figsize=(12, 6))  # Adjust the figure size if desired\n",
        "neighbourhood_prices.plot(kind='line', marker='o', linestyle='-', color='blue')\n",
        "\n",
        "# Setting the title and labels\n",
        "plt.title('Average Price of Listings by Neighbourhood')\n",
        "plt.xlabel('Neighbourhood')\n",
        "plt.ylabel('Average Price')\n",
        "\n",
        "# Customizing the plot\n",
        "plt.xticks(rotation=45)\n",
        "plt.grid(True)\n",
        "plt.tight_layout()\n",
        "\n",
        "# Displaying the plot\n",
        "plt.show()"
      ],
      "metadata": {
        "id": "mAQTIvtqp1cj"
      },
      "execution_count": null,
      "outputs": []
    },
    {
      "cell_type": "markdown",
      "source": [
        "##### 1. Why did you pick the specific chart?"
      ],
      "metadata": {
        "id": "X_VqEhTip1ck"
      }
    },
    {
      "cell_type": "markdown",
      "source": [
        "To compare the average prices across different neighbourhoods."
      ],
      "metadata": {
        "id": "-vsMzt_np1ck"
      }
    },
    {
      "cell_type": "markdown",
      "source": [],
      "metadata": {
        "id": "l9aepd2cS2LE"
      }
    },
    {
      "cell_type": "markdown",
      "source": [
        "##### 2. What is/are the insight(s) found from the chart?"
      ],
      "metadata": {
        "id": "8zGJKyg5p1ck"
      }
    },
    {
      "cell_type": "markdown",
      "source": [
        "Identify neighbourhoods with higher or lower average prices, helping in market analysis or property investment decisions.\n"
      ],
      "metadata": {
        "id": "ZYdMsrqVp1ck"
      }
    },
    {
      "cell_type": "markdown",
      "source": [
        "##### 3. Will the gained insights help creating a positive business impact?\n",
        "Are there any insights that lead to negative growth? Justify with specific reason."
      ],
      "metadata": {
        "id": "PVzmfK_Ep1ck"
      }
    },
    {
      "cell_type": "markdown",
      "source": [
        "The gained insights from the average price of listings in different neighborhoods can help create a positive business impact. Lower average prices in some neighborhoods like Bull's Head and Hunts Point may attract budget-conscious travelers and increase bookings. However, higher average prices in neighborhoods like Tribeca and Fort Wadsworth may limit the target audience and potentially lead to negative growth if demand is insufficient."
      ],
      "metadata": {
        "id": "druuKYZpp1ck"
      }
    },
    {
      "cell_type": "markdown",
      "source": [
        "#### Chart - 12"
      ],
      "metadata": {
        "id": "n3dbpmDWp1ck"
      }
    },
    {
      "cell_type": "code",
      "source": [
        "#Box Plot - Price Distribution by Room Type and Neighbourhood Group\n",
        "plt.figure(figsize=(10, 8))  # Adjust the figure size if desired\n",
        "sns.boxplot(data=airbnb_df, x='room_type', y='price', hue='neighbourhood_group')\n",
        "\n",
        "# Setting the title and labels\n",
        "plt.title('Price Distribution by Room Type and Neighbourhood Group')\n",
        "plt.xlabel('Room Type')\n",
        "plt.ylabel('Price')\n",
        "\n",
        "# Customizing the plot\n",
        "plt.xticks(rotation=45)\n",
        "plt.legend(title='Neighbourhood Group')\n",
        "\n",
        "# Displaying the plot\n",
        "plt.show()"
      ],
      "metadata": {
        "id": "bwevp1tKp1ck"
      },
      "execution_count": null,
      "outputs": []
    },
    {
      "cell_type": "markdown",
      "source": [
        "##### 1. Why did you pick the specific chart?"
      ],
      "metadata": {
        "id": "ylSl6qgtp1ck"
      }
    },
    {
      "cell_type": "markdown",
      "source": [
        "To visualize the price distributions based on both room type and neighbourhood group."
      ],
      "metadata": {
        "id": "m2xqNkiQp1ck"
      }
    },
    {
      "cell_type": "markdown",
      "source": [
        "##### 2. What is/are the insight(s) found from the chart?"
      ],
      "metadata": {
        "id": "ZWILFDl5p1ck"
      }
    },
    {
      "cell_type": "markdown",
      "source": [
        "Assess price variations across room types and neighbourhood groups simultaneously, informing pricing strategies or investment decisions."
      ],
      "metadata": {
        "id": "x-lUsV2mp1ck"
      }
    },
    {
      "cell_type": "markdown",
      "source": [
        "##### 3. Will the gained insights help creating a positive business impact?\n",
        "Are there any insights that lead to negative growth? Justify with specific reason."
      ],
      "metadata": {
        "id": "M7G43BXep1ck"
      }
    },
    {
      "cell_type": "markdown",
      "source": [
        "yes,he gained insights help creating a positive business impact"
      ],
      "metadata": {
        "id": "5wwDJXsLp1cl"
      }
    },
    {
      "cell_type": "markdown",
      "source": [
        "#### Chart - 13"
      ],
      "metadata": {
        "id": "Ag9LCva-p1cl"
      }
    },
    {
      "cell_type": "code",
      "source": [
        "#Bar Chart - Number of Listings by Neighbourhood:\n",
        "plt.figure(figsize=(10, 8))  # Adjust the figure size if desired\n",
        "airbnb_df['neighbourhood'].value_counts().nlargest(10).plot(kind='bar')\n",
        "\n",
        "# Setting the title and labels\n",
        "plt.title('Top 10 Neighbourhoods with Highest Listing Counts')\n",
        "plt.xlabel('Neighbourhood')\n",
        "plt.ylabel('Listing Count')\n",
        "\n",
        "# Rotating the x-axis labels for better readability\n",
        "plt.xticks(rotation=45)\n",
        "\n",
        "# Displaying the plot\n",
        "plt.show()"
      ],
      "metadata": {
        "id": "EUfxeq9-p1cl"
      },
      "execution_count": null,
      "outputs": []
    },
    {
      "cell_type": "markdown",
      "source": [
        "##### 1. Why did you pick the specific chart?"
      ],
      "metadata": {
        "id": "E6MkPsBcp1cl"
      }
    },
    {
      "cell_type": "markdown",
      "source": [
        "To identify the top 10 neighbourhoods with the highest number of listings."
      ],
      "metadata": {
        "id": "V22bRsFWp1cl"
      }
    },
    {
      "cell_type": "markdown",
      "source": [
        "##### 2. What is/are the insight(s) found from the chart?"
      ],
      "metadata": {
        "id": "2cELzS2fp1cl"
      }
    },
    {
      "cell_type": "markdown",
      "source": [
        " Recognize popular neighbourhoods with a large number of listings, guiding marketing efforts or investment decisions.\n"
      ],
      "metadata": {
        "id": "ozQPc2_Ip1cl"
      }
    },
    {
      "cell_type": "markdown",
      "source": [
        "##### 3. Will the gained insights help creating a positive business impact?\n",
        "Are there any insights that lead to negative growth? Justify with specific reason."
      ],
      "metadata": {
        "id": "3MPXvC8up1cl"
      }
    },
    {
      "cell_type": "markdown",
      "source": [
        "The insights gained from the top 10 neighbourhoods with the highest listing counts can potentially create a positive business impact. These neighbourhoods, such as Williamsburg, Bedford-Stuyvesant, and Harlem, have a high demand for Airbnb accommodations, indicating a potential market opportunity. However, without further analysis, it is difficult to determine if there are any specific insights that could lead to negative growth."
      ],
      "metadata": {
        "id": "GL8l1tdLp1cl"
      }
    },
    {
      "cell_type": "markdown",
      "source": [
        "#### Chart - 14 - Correlation Heatmap"
      ],
      "metadata": {
        "id": "NC_X3p0fY2L0"
      }
    },
    {
      "cell_type": "code",
      "source": [
        "# Correlation Heatmap visualization code\n",
        "plt.figure(figsize=(10, 8))\n",
        "sns.heatmap(airbnb_df.corr(), annot=True, cmap=\"coolwarm\", linewidths=0.5)\n",
        "plt.title(\"Correlation Matrix\")\n",
        "plt.show()"
      ],
      "metadata": {
        "id": "xyC9zolEZNRQ"
      },
      "execution_count": null,
      "outputs": []
    },
    {
      "cell_type": "markdown",
      "source": [
        "##### 1. Why did you pick the specific chart?"
      ],
      "metadata": {
        "id": "UV0SzAkaZNRQ"
      }
    },
    {
      "cell_type": "markdown",
      "source": [
        "Visualizing the correlation matrix as a heatmap is a commonly used technique to explore the relationships between variables in a dataset. Here's why this chart is chosen:\n",
        "\n",
        "1. Easy Interpretation: A heatmap provides a visual representation of the correlation values between variables using color gradients. This makes it easy to interpret the strength and direction of the relationships between variables. Strong positive correlations are typically represented by darker shades, while strong negative correlations are represented by lighter shades.\n",
        "\n",
        "2. Comprehensive Overview: The correlation matrix heatmap allows you to quickly grasp the overall patterns of associations between variables in a single chart. By examining the entire matrix, you can identify clusters of variables that are highly correlated or variables that have weak or no correlations with others.\n",
        "\n",
        "3. Identifying Relationships: Heatmaps help in identifying relationships that may not be immediately evident from numerical values alone. You can identify variables that have strong positive or negative correlations, which can guide further analysis or decision-making.\n",
        "\n",
        "4. Feature Selection: Heatmaps can assist in feature selection by identifying variables that are highly correlated with the target variable. Highly correlated variables may provide redundant or overlapping information, and selecting a subset of variables with lower correlations can help improve model performance and interpretability.\n",
        "\n",
        "5. Data Preprocessing: Heatmaps can be useful in identifying variables with high correlations, indicating potential multicollinearity. Multicollinearity can impact the performance and interpretation of regression models, and detecting such relationships can guide feature engineering or data preprocessing steps.\n",
        "\n",
        "Overall, the correlation matrix heatmap is a powerful visualization tool that allows you to understand the relationships between variables in a concise and intuitive manner. It helps in uncovering patterns, identifying dependencies, and making informed decisions during data analysis."
      ],
      "metadata": {
        "id": "DVPuT8LYZNRQ"
      }
    },
    {
      "cell_type": "markdown",
      "source": [
        "##### 2. What is/are the insight(s) found from the chart?"
      ],
      "metadata": {
        "id": "YPEH6qLeZNRQ"
      }
    },
    {
      "cell_type": "markdown",
      "source": [
        "Based on the correlation matrix of the `airbnb_df` dataset, here are some insights that can be derived:\n",
        "\n",
        "1. Price:\n",
        "   - There is a negative correlation (-0.150019) between 'price' and 'longitude', suggesting that as the longitude coordinates increase, the price tends to decrease slightly.\n",
        "   - There is a positive correlation (0.042799) between 'price' and 'minimum_nights', indicating that higher prices are associated with longer minimum stay requirements.\n",
        "\n",
        "2. Number of Reviews:\n",
        "   - There is a negative correlation (-0.319760) between 'number_of_reviews' and 'id', suggesting that listings with higher IDs tend to have fewer reviews. This relationship could be influenced by the fact that newer listings have had less time to accumulate reviews.\n",
        "   - There is a positive correlation (0.549868) between 'number_of_reviews' and 'reviews_per_month', indicating that listings with higher review counts tend to have higher monthly review rates.\n",
        "\n",
        "3. Calculated Host Listings Count:\n",
        "   - There is a positive correlation (0.133272) between 'calculated_host_listings_count' and 'id', indicating that hosts with more listings tend to have higher host IDs.\n",
        "   - There is a positive correlation (0.127960) between 'calculated_host_listings_count' and 'minimum_nights', suggesting that hosts with more listings may have longer minimum stay requirements.\n",
        "\n",
        "These insights provide some understanding of the relationships between variables in the dataset."
      ],
      "metadata": {
        "id": "bfSqtnDqZNRR"
      }
    },
    {
      "cell_type": "markdown",
      "source": [
        "#### Chart - 15 - Pair Plot"
      ],
      "metadata": {
        "id": "q29F0dvdveiT"
      }
    },
    {
      "cell_type": "code",
      "source": [
        "# Select the columns for the pair plot\n",
        "columns = ['price', 'minimum_nights', 'number_of_reviews', 'reviews_per_month', 'calculated_host_listings_count']\n",
        "\n",
        "# Create the pair plot\n",
        "sns.pairplot(airbnb_df[columns])\n"
      ],
      "metadata": {
        "id": "o58-TEIhveiU"
      },
      "execution_count": null,
      "outputs": []
    },
    {
      "cell_type": "markdown",
      "source": [
        "##### 1. Why did you pick the specific chart?"
      ],
      "metadata": {
        "id": "EXh0U9oCveiU"
      }
    },
    {
      "cell_type": "markdown",
      "source": [
        "I picked the pair plot because it allows us to visualize the relationships between multiple variables in a single plot. By plotting each variable against every other variable, we can quickly identify any potential correlations or patterns between them.\n",
        "\n",
        "From the pair plot, we can gain several insights:\n",
        "\n",
        "1. Scatter plots: The scatter plots show the relationship between two variables. We can observe if there is a linear or non-linear relationship between variables such as price, minimum nights, number of reviews, reviews per month, and calculated host listings count.\n",
        "\n",
        "2. Diagonal histograms: The histograms on the diagonal show the distribution of each variable individually. We can examine the distribution of variables such as price, minimum nights, number of reviews, reviews per month, and calculated host listings count to identify any patterns or outliers.\n",
        "\n",
        "3. Correlation: By examining the scatter plots and observing the general trend of the data points, we can get an idea of the correlation between variables. Positive correlation is indicated by a positive slope in the scatter plot, while negative correlation is indicated by a negative slope. No significant correlation is indicated by a scatter plot with no clear pattern."
      ],
      "metadata": {
        "id": "eMmPjTByveiU"
      }
    },
    {
      "cell_type": "markdown",
      "source": [
        "##### 2. What is/are the insight(s) found from the chart?"
      ],
      "metadata": {
        "id": "22aHeOlLveiV"
      }
    },
    {
      "cell_type": "markdown",
      "source": [
        "The insights gained from the pair plot can help in understanding the relationships between variables and identifying potential patterns or trends in the data. This information can be useful for making data-driven decisions, identifying influential factors, and exploring potential opportunities or areas of improvement in the business."
      ],
      "metadata": {
        "id": "uPQ8RGwHveiV"
      }
    },
    {
      "cell_type": "markdown",
      "source": [
        "## **5. Solution to Business Objective**"
      ],
      "metadata": {
        "id": "JcMwzZxoAimU"
      }
    },
    {
      "cell_type": "markdown",
      "source": [
        "#### What do you suggest the client to achieve Business Objective ?\n",
        "Explain Briefly."
      ],
      "metadata": {
        "id": "8G2x9gOozGDZ"
      }
    },
    {
      "cell_type": "markdown",
      "source": [
        "Answer Here."
      ],
      "metadata": {
        "id": "pASKb0qOza21"
      }
    },
    {
      "cell_type": "markdown",
      "source": [
        "# **Conclusion**"
      ],
      "metadata": {
        "id": "gCX9965dhzqZ"
      }
    },
    {
      "cell_type": "markdown",
      "source": [
        "Write the conclusion here."
      ],
      "metadata": {
        "id": "Fjb1IsQkh3yE"
      }
    },
    {
      "cell_type": "markdown",
      "source": [
        "### ***Hurrah! You have successfully completed your EDA Capstone Project !!!***"
      ],
      "metadata": {
        "id": "gIfDvo9L0UH2"
      }
    }
  ]
}